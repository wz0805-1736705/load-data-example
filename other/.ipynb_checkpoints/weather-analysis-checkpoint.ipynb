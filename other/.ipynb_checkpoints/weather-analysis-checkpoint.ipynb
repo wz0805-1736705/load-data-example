{
 "cells": [
  {
   "cell_type": "code",
   "execution_count": 1,
   "metadata": {},
   "outputs": [],
   "source": [
    "import pandas as pd\n",
    "import numpy as np\n",
    "import matplotlib.pyplot as plt"
   ]
  },
  {
   "cell_type": "code",
   "execution_count": 2,
   "metadata": {},
   "outputs": [
    {
     "data": {
      "text/html": [
       "<div>\n",
       "<style scoped>\n",
       "    .dataframe tbody tr th:only-of-type {\n",
       "        vertical-align: middle;\n",
       "    }\n",
       "\n",
       "    .dataframe tbody tr th {\n",
       "        vertical-align: top;\n",
       "    }\n",
       "\n",
       "    .dataframe thead th {\n",
       "        text-align: right;\n",
       "    }\n",
       "</style>\n",
       "<table border=\"1\" class=\"dataframe\">\n",
       "  <thead>\n",
       "    <tr style=\"text-align: right;\">\n",
       "      <th></th>\n",
       "      <th>station</th>\n",
       "      <th>state</th>\n",
       "      <th>latitude</th>\n",
       "      <th>longitude</th>\n",
       "      <th>elevation</th>\n",
       "      <th>date</th>\n",
       "      <th>TMIN</th>\n",
       "      <th>TMAX</th>\n",
       "      <th>TAVG</th>\n",
       "      <th>AWND</th>\n",
       "      <th>WDF5</th>\n",
       "      <th>WSF5</th>\n",
       "      <th>SNOW</th>\n",
       "      <th>SNWD</th>\n",
       "      <th>PRCP</th>\n",
       "    </tr>\n",
       "  </thead>\n",
       "  <tbody>\n",
       "    <tr>\n",
       "      <th>0</th>\n",
       "      <td>GUAM INTL AP</td>\n",
       "      <td>GU</td>\n",
       "      <td>13.4836</td>\n",
       "      <td>144.7961</td>\n",
       "      <td>77.4</td>\n",
       "      <td>20170312</td>\n",
       "      <td>71.06</td>\n",
       "      <td>87.08</td>\n",
       "      <td>80.06</td>\n",
       "      <td>4.473880</td>\n",
       "      <td>360.0</td>\n",
       "      <td>21.027236</td>\n",
       "      <td>0.00000</td>\n",
       "      <td>0.000000</td>\n",
       "      <td>0.000000</td>\n",
       "    </tr>\n",
       "    <tr>\n",
       "      <th>1</th>\n",
       "      <td>ROOSEVELT ROADS</td>\n",
       "      <td>PR</td>\n",
       "      <td>18.2550</td>\n",
       "      <td>-65.6408</td>\n",
       "      <td>10.1</td>\n",
       "      <td>20170404</td>\n",
       "      <td>77.00</td>\n",
       "      <td>86.00</td>\n",
       "      <td>NaN</td>\n",
       "      <td>8.947760</td>\n",
       "      <td>360.0</td>\n",
       "      <td>23.040482</td>\n",
       "      <td>NaN</td>\n",
       "      <td>NaN</td>\n",
       "      <td>0.000000</td>\n",
       "    </tr>\n",
       "    <tr>\n",
       "      <th>2</th>\n",
       "      <td>ROOSEVELT ROADS</td>\n",
       "      <td>PR</td>\n",
       "      <td>18.2550</td>\n",
       "      <td>-65.6408</td>\n",
       "      <td>10.1</td>\n",
       "      <td>20170420</td>\n",
       "      <td>NaN</td>\n",
       "      <td>NaN</td>\n",
       "      <td>NaN</td>\n",
       "      <td>8.500372</td>\n",
       "      <td>360.0</td>\n",
       "      <td>21.922012</td>\n",
       "      <td>NaN</td>\n",
       "      <td>NaN</td>\n",
       "      <td>0.000000</td>\n",
       "    </tr>\n",
       "    <tr>\n",
       "      <th>3</th>\n",
       "      <td>SAN JUAN L M MARIN AP</td>\n",
       "      <td>PR</td>\n",
       "      <td>18.4325</td>\n",
       "      <td>-66.0108</td>\n",
       "      <td>2.7</td>\n",
       "      <td>20170120</td>\n",
       "      <td>69.08</td>\n",
       "      <td>82.04</td>\n",
       "      <td>NaN</td>\n",
       "      <td>3.355410</td>\n",
       "      <td>360.0</td>\n",
       "      <td>17.000744</td>\n",
       "      <td>0.00000</td>\n",
       "      <td>0.000000</td>\n",
       "      <td>0.000000</td>\n",
       "    </tr>\n",
       "    <tr>\n",
       "      <th>4</th>\n",
       "      <td>SAN JUAN L M MARIN AP</td>\n",
       "      <td>PR</td>\n",
       "      <td>18.4325</td>\n",
       "      <td>-66.0108</td>\n",
       "      <td>2.7</td>\n",
       "      <td>20170217</td>\n",
       "      <td>73.04</td>\n",
       "      <td>87.08</td>\n",
       "      <td>NaN</td>\n",
       "      <td>4.697574</td>\n",
       "      <td>360.0</td>\n",
       "      <td>19.908766</td>\n",
       "      <td>0.00000</td>\n",
       "      <td>0.000000</td>\n",
       "      <td>0.000000</td>\n",
       "    </tr>\n",
       "    <tr>\n",
       "      <th>5</th>\n",
       "      <td>SAN JUAN L M MARIN AP</td>\n",
       "      <td>PR</td>\n",
       "      <td>18.4325</td>\n",
       "      <td>-66.0108</td>\n",
       "      <td>2.7</td>\n",
       "      <td>20170329</td>\n",
       "      <td>73.04</td>\n",
       "      <td>84.02</td>\n",
       "      <td>NaN</td>\n",
       "      <td>5.816044</td>\n",
       "      <td>360.0</td>\n",
       "      <td>21.922012</td>\n",
       "      <td>0.00000</td>\n",
       "      <td>0.000000</td>\n",
       "      <td>0.000000</td>\n",
       "    </tr>\n",
       "    <tr>\n",
       "      <th>6</th>\n",
       "      <td>SAN JUAN L M MARIN AP</td>\n",
       "      <td>PR</td>\n",
       "      <td>18.4325</td>\n",
       "      <td>-66.0108</td>\n",
       "      <td>2.7</td>\n",
       "      <td>20170414</td>\n",
       "      <td>75.02</td>\n",
       "      <td>84.92</td>\n",
       "      <td>NaN</td>\n",
       "      <td>3.802798</td>\n",
       "      <td>360.0</td>\n",
       "      <td>19.908766</td>\n",
       "      <td>0.00000</td>\n",
       "      <td>0.000000</td>\n",
       "      <td>0.031496</td>\n",
       "    </tr>\n",
       "    <tr>\n",
       "      <th>7</th>\n",
       "      <td>KALISPELL GLACIER AP</td>\n",
       "      <td>MT</td>\n",
       "      <td>48.3042</td>\n",
       "      <td>-114.2636</td>\n",
       "      <td>901.3</td>\n",
       "      <td>20170207</td>\n",
       "      <td>-0.76</td>\n",
       "      <td>22.10</td>\n",
       "      <td>13.64</td>\n",
       "      <td>3.802798</td>\n",
       "      <td>360.0</td>\n",
       "      <td>14.092722</td>\n",
       "      <td>0.11811</td>\n",
       "      <td>22.047256</td>\n",
       "      <td>0.000000</td>\n",
       "    </tr>\n",
       "    <tr>\n",
       "      <th>8</th>\n",
       "      <td>KALISPELL GLACIER AP</td>\n",
       "      <td>MT</td>\n",
       "      <td>48.3042</td>\n",
       "      <td>-114.2636</td>\n",
       "      <td>901.3</td>\n",
       "      <td>20170330</td>\n",
       "      <td>37.04</td>\n",
       "      <td>53.96</td>\n",
       "      <td>44.24</td>\n",
       "      <td>4.026492</td>\n",
       "      <td>360.0</td>\n",
       "      <td>19.908766</td>\n",
       "      <td>0.00000</td>\n",
       "      <td>0.000000</td>\n",
       "      <td>0.070866</td>\n",
       "    </tr>\n",
       "    <tr>\n",
       "      <th>9</th>\n",
       "      <td>KALISPELL GLACIER AP</td>\n",
       "      <td>MT</td>\n",
       "      <td>48.3042</td>\n",
       "      <td>-114.2636</td>\n",
       "      <td>901.3</td>\n",
       "      <td>20170622</td>\n",
       "      <td>35.96</td>\n",
       "      <td>73.04</td>\n",
       "      <td>59.72</td>\n",
       "      <td>3.579104</td>\n",
       "      <td>360.0</td>\n",
       "      <td>19.013990</td>\n",
       "      <td>0.00000</td>\n",
       "      <td>0.000000</td>\n",
       "      <td>0.000000</td>\n",
       "    </tr>\n",
       "  </tbody>\n",
       "</table>\n",
       "</div>"
      ],
      "text/plain": [
       "                 station state  latitude  longitude  elevation      date  \\\n",
       "0           GUAM INTL AP    GU   13.4836   144.7961       77.4  20170312   \n",
       "1        ROOSEVELT ROADS    PR   18.2550   -65.6408       10.1  20170404   \n",
       "2        ROOSEVELT ROADS    PR   18.2550   -65.6408       10.1  20170420   \n",
       "3  SAN JUAN L M MARIN AP    PR   18.4325   -66.0108        2.7  20170120   \n",
       "4  SAN JUAN L M MARIN AP    PR   18.4325   -66.0108        2.7  20170217   \n",
       "5  SAN JUAN L M MARIN AP    PR   18.4325   -66.0108        2.7  20170329   \n",
       "6  SAN JUAN L M MARIN AP    PR   18.4325   -66.0108        2.7  20170414   \n",
       "7   KALISPELL GLACIER AP    MT   48.3042  -114.2636      901.3  20170207   \n",
       "8   KALISPELL GLACIER AP    MT   48.3042  -114.2636      901.3  20170330   \n",
       "9   KALISPELL GLACIER AP    MT   48.3042  -114.2636      901.3  20170622   \n",
       "\n",
       "    TMIN   TMAX   TAVG      AWND   WDF5       WSF5     SNOW       SNWD  \\\n",
       "0  71.06  87.08  80.06  4.473880  360.0  21.027236  0.00000   0.000000   \n",
       "1  77.00  86.00    NaN  8.947760  360.0  23.040482      NaN        NaN   \n",
       "2    NaN    NaN    NaN  8.500372  360.0  21.922012      NaN        NaN   \n",
       "3  69.08  82.04    NaN  3.355410  360.0  17.000744  0.00000   0.000000   \n",
       "4  73.04  87.08    NaN  4.697574  360.0  19.908766  0.00000   0.000000   \n",
       "5  73.04  84.02    NaN  5.816044  360.0  21.922012  0.00000   0.000000   \n",
       "6  75.02  84.92    NaN  3.802798  360.0  19.908766  0.00000   0.000000   \n",
       "7  -0.76  22.10  13.64  3.802798  360.0  14.092722  0.11811  22.047256   \n",
       "8  37.04  53.96  44.24  4.026492  360.0  19.908766  0.00000   0.000000   \n",
       "9  35.96  73.04  59.72  3.579104  360.0  19.013990  0.00000   0.000000   \n",
       "\n",
       "       PRCP  \n",
       "0  0.000000  \n",
       "1  0.000000  \n",
       "2  0.000000  \n",
       "3  0.000000  \n",
       "4  0.000000  \n",
       "5  0.000000  \n",
       "6  0.031496  \n",
       "7  0.000000  \n",
       "8  0.070866  \n",
       "9  0.000000  "
      ]
     },
     "execution_count": 2,
     "metadata": {},
     "output_type": "execute_result"
    }
   ],
   "source": [
    "## Read data\n",
    "df_weather = pd.read_csv('weather.csv')\n",
    "df_weather.head(10)"
   ]
  },
  {
   "cell_type": "code",
   "execution_count": 3,
   "metadata": {},
   "outputs": [
    {
     "data": {
      "text/plain": [
       "(416937, 15)"
      ]
     },
     "execution_count": 3,
     "metadata": {},
     "output_type": "execute_result"
    }
   ],
   "source": [
    "df_weather.shape"
   ]
  },
  {
   "cell_type": "code",
   "execution_count": 4,
   "metadata": {},
   "outputs": [
    {
     "data": {
      "text/plain": [
       "station       object\n",
       "state         object\n",
       "latitude     float64\n",
       "longitude    float64\n",
       "elevation    float64\n",
       "date           int64\n",
       "TMIN         float64\n",
       "TMAX         float64\n",
       "TAVG         float64\n",
       "AWND         float64\n",
       "WDF5         float64\n",
       "WSF5         float64\n",
       "SNOW         float64\n",
       "SNWD         float64\n",
       "PRCP         float64\n",
       "dtype: object"
      ]
     },
     "execution_count": 4,
     "metadata": {},
     "output_type": "execute_result"
    }
   ],
   "source": [
    "df_weather.dtypes"
   ]
  },
  {
   "cell_type": "code",
   "execution_count": 40,
   "metadata": {},
   "outputs": [
    {
     "data": {
      "text/html": [
       "<div>\n",
       "<style scoped>\n",
       "    .dataframe tbody tr th:only-of-type {\n",
       "        vertical-align: middle;\n",
       "    }\n",
       "\n",
       "    .dataframe tbody tr th {\n",
       "        vertical-align: top;\n",
       "    }\n",
       "\n",
       "    .dataframe thead th {\n",
       "        text-align: right;\n",
       "    }\n",
       "</style>\n",
       "<table border=\"1\" class=\"dataframe\">\n",
       "  <thead>\n",
       "    <tr style=\"text-align: right;\">\n",
       "      <th></th>\n",
       "      <th>elevation</th>\n",
       "      <th>TMIN</th>\n",
       "      <th>TMAX</th>\n",
       "    </tr>\n",
       "  </thead>\n",
       "  <tbody>\n",
       "    <tr>\n",
       "      <th>0</th>\n",
       "      <td>77.4</td>\n",
       "      <td>71.06</td>\n",
       "      <td>87.08</td>\n",
       "    </tr>\n",
       "    <tr>\n",
       "      <th>1</th>\n",
       "      <td>10.1</td>\n",
       "      <td>77.00</td>\n",
       "      <td>86.00</td>\n",
       "    </tr>\n",
       "    <tr>\n",
       "      <th>3</th>\n",
       "      <td>2.7</td>\n",
       "      <td>69.08</td>\n",
       "      <td>82.04</td>\n",
       "    </tr>\n",
       "    <tr>\n",
       "      <th>4</th>\n",
       "      <td>2.7</td>\n",
       "      <td>73.04</td>\n",
       "      <td>87.08</td>\n",
       "    </tr>\n",
       "    <tr>\n",
       "      <th>5</th>\n",
       "      <td>2.7</td>\n",
       "      <td>73.04</td>\n",
       "      <td>84.02</td>\n",
       "    </tr>\n",
       "    <tr>\n",
       "      <th>...</th>\n",
       "      <td>...</td>\n",
       "      <td>...</td>\n",
       "      <td>...</td>\n",
       "    </tr>\n",
       "    <tr>\n",
       "      <th>416930</th>\n",
       "      <td>296.9</td>\n",
       "      <td>29.12</td>\n",
       "      <td>62.96</td>\n",
       "    </tr>\n",
       "    <tr>\n",
       "      <th>416931</th>\n",
       "      <td>283.5</td>\n",
       "      <td>29.12</td>\n",
       "      <td>64.04</td>\n",
       "    </tr>\n",
       "    <tr>\n",
       "      <th>416932</th>\n",
       "      <td>344.7</td>\n",
       "      <td>41.00</td>\n",
       "      <td>69.08</td>\n",
       "    </tr>\n",
       "    <tr>\n",
       "      <th>416933</th>\n",
       "      <td>353.9</td>\n",
       "      <td>16.16</td>\n",
       "      <td>26.24</td>\n",
       "    </tr>\n",
       "    <tr>\n",
       "      <th>416934</th>\n",
       "      <td>204.8</td>\n",
       "      <td>46.04</td>\n",
       "      <td>80.96</td>\n",
       "    </tr>\n",
       "  </tbody>\n",
       "</table>\n",
       "<p>415485 rows × 3 columns</p>\n",
       "</div>"
      ],
      "text/plain": [
       "        elevation   TMIN   TMAX\n",
       "0            77.4  71.06  87.08\n",
       "1            10.1  77.00  86.00\n",
       "3             2.7  69.08  82.04\n",
       "4             2.7  73.04  87.08\n",
       "5             2.7  73.04  84.02\n",
       "...           ...    ...    ...\n",
       "416930      296.9  29.12  62.96\n",
       "416931      283.5  29.12  64.04\n",
       "416932      344.7  41.00  69.08\n",
       "416933      353.9  16.16  26.24\n",
       "416934      204.8  46.04  80.96\n",
       "\n",
       "[415485 rows x 3 columns]"
      ]
     },
     "execution_count": 40,
     "metadata": {},
     "output_type": "execute_result"
    }
   ],
   "source": [
    "## relationship between elevation and temperature\n",
    "df_plt1 = df_weather[['elevation', 'TMIN', 'TMAX']]\n",
    "df_plt1 = df_plt1.dropna()\n",
    "df_plt1"
   ]
  },
  {
   "cell_type": "code",
   "execution_count": 116,
   "metadata": {},
   "outputs": [
    {
     "name": "stdout",
     "output_type": "stream",
     "text": [
      "-0.006966860028357781\n"
     ]
    },
    {
     "data": {
      "image/png": "[encoded data removed]",
      "text/plain": [
       "<Figure size 432x288 with 1 Axes>"
      ]
     },
     "metadata": {
      "needs_background": "light"
     },
     "output_type": "display_data"
    }
   ],
   "source": [
    "m, b = np.polyfit(df_plt1.elevation, df_plt1.TMIN, 1)\n",
    "ax = plt.subplot()\n",
    "plt.scatter(df_plt1.elevation, df_plt1.TMIN, color='green')\n",
    "plt.plot(df_plt1.elevation, (m * df_plt1.elevation + b), '-', color=\"red\")\n",
    "plt.title('Relationship between elevation and minimum temperature in 2017')\n",
    "plt.xlabel(\"Elevation\")\n",
    "plt.ylabel(\"Minimum Temperature (F)\")\n",
    "plt.savefig('ele-min.png')\n",
    "print(m)\n"
   ]
  },
  {
   "cell_type": "code",
   "execution_count": 44,
   "metadata": {},
   "outputs": [
    {
     "name": "stdout",
     "output_type": "stream",
     "text": [
      "-0.006133527417067409\n"
     ]
    },
    {
     "data": {
      "image/png": "[encoded data removed]",
      "text/plain": [
       "<Figure size 432x288 with 1 Axes>"
      ]
     },
     "metadata": {
      "needs_background": "light"
     },
     "output_type": "display_data"
    }
   ],
   "source": [
    "m, b = np.polyfit(df_plt1.elevation, df_plt1.TMAX, 1)\n",
    "ax = plt.subplot()\n",
    "plt.scatter(df_plt1.elevation, df_plt1.TMAX, color='green')\n",
    "plt.plot(df_plt1.elevation, (m * df_plt1.elevation + b), '-', color=\"red\")\n",
    "plt.title('Relationship between elevation and maximum temperature in 2017')\n",
    "plt.xlabel(\"Elevation\")\n",
    "plt.ylabel(\"Maximum Temperature (F)\")\n",
    "print(m)\n"
   ]
  },
  {
   "cell_type": "code",
   "execution_count": 42,
   "metadata": {},
   "outputs": [],
   "source": [
    "df_plt2 = df_weather[['elevation', 'TAVG']]\n",
    "df_plt2 = df_plt2.dropna()"
   ]
  },
  {
   "cell_type": "code",
   "execution_count": 45,
   "metadata": {},
   "outputs": [
    {
     "name": "stdout",
     "output_type": "stream",
     "text": [
      "-0.005532356472996118\n"
     ]
    },
    {
     "data": {
      "image/png": "[encoded data removed]",
      "text/plain": [
       "<Figure size 432x288 with 1 Axes>"
      ]
     },
     "metadata": {
      "needs_background": "light"
     },
     "output_type": "display_data"
    }
   ],
   "source": [
    "m, b = np.polyfit(df_plt2.elevation, df_plt2.TAVG, 1)\n",
    "ax = plt.subplot()\n",
    "plt.scatter(df_plt2.elevation, df_plt2.TAVG, color='green')\n",
    "plt.plot(df_plt2.elevation, (m * df_plt2.elevation + b), '-', color=\"red\")\n",
    "plt.title('Relationship between elevation and average temperature in 2017')\n",
    "plt.xlabel(\"Elevation\")\n",
    "plt.ylabel(\"Average Temperature (F)\")\n",
    "print(m)\n"
   ]
  },
  {
   "cell_type": "code",
   "execution_count": 50,
   "metadata": {},
   "outputs": [],
   "source": [
    "## relationship between elevation and snow and precipitation\n",
    "df_plt3 = df_weather[['elevation', 'PRCP']]\n",
    "df_plt3 = df_plt3.dropna()"
   ]
  },
  {
   "cell_type": "code",
   "execution_count": 82,
   "metadata": {},
   "outputs": [
    {
     "name": "stdout",
     "output_type": "stream",
     "text": [
      "-5.4058933691763245e-06\n"
     ]
    },
    {
     "data": {
      "image/png": "[encoded data removed]",
      "text/plain": [
       "<Figure size 432x288 with 1 Axes>"
      ]
     },
     "metadata": {
      "needs_background": "light"
     },
     "output_type": "display_data"
    }
   ],
   "source": [
    "m, b = np.polyfit(df_plt3.elevation, df_plt3.PRCP, 1)\n",
    "ax = plt.subplot()\n",
    "plt.scatter(df_plt3.elevation, df_plt3.PRCP, color='green')\n",
    "plt.plot(df_plt3.elevation, (m * df_plt3.elevation + b), '-', color=\"red\")\n",
    "plt.title('Relationship between elevation and precipitation in 2017')\n",
    "plt.xlabel(\"Elevation\")\n",
    "plt.ylabel(\"Precipitation (inch)\")\n",
    "print(m)\n"
   ]
  },
  {
   "cell_type": "code",
   "execution_count": 54,
   "metadata": {},
   "outputs": [],
   "source": [
    "df_plt4 = df_weather[['elevation', 'SNOW']]\n",
    "df_plt4 = df_plt4.dropna()"
   ]
  },
  {
   "cell_type": "code",
   "execution_count": 83,
   "metadata": {},
   "outputs": [
    {
     "name": "stdout",
     "output_type": "stream",
     "text": [
      "2.3547401096404706e-05\n"
     ]
    },
    {
     "data": {
      "image/png": "[encoded data removed]",
      "text/plain": [
       "<Figure size 432x288 with 1 Axes>"
      ]
     },
     "metadata": {
      "needs_background": "light"
     },
     "output_type": "display_data"
    }
   ],
   "source": [
    "m, b = np.polyfit(df_plt4.elevation, df_plt4.SNOW, 1)\n",
    "ax = plt.subplot()\n",
    "plt.scatter(df_plt4.elevation, df_plt4.SNOW, color='green')\n",
    "plt.plot(df_plt4.elevation, (m * df_plt4.elevation + b), '-', color=\"red\")\n",
    "plt.title('Relationship between elevation and snow in 2017')\n",
    "plt.xlabel(\"Elevation\")\n",
    "plt.ylabel(\"Snow (inch)\")\n",
    "print(m)\n"
   ]
  },
  {
   "cell_type": "code",
   "execution_count": 72,
   "metadata": {},
   "outputs": [
    {
     "data": {
      "text/html": [
       "<div>\n",
       "<style scoped>\n",
       "    .dataframe tbody tr th:only-of-type {\n",
       "        vertical-align: middle;\n",
       "    }\n",
       "\n",
       "    .dataframe tbody tr th {\n",
       "        vertical-align: top;\n",
       "    }\n",
       "\n",
       "    .dataframe thead th {\n",
       "        text-align: right;\n",
       "    }\n",
       "</style>\n",
       "<table border=\"1\" class=\"dataframe\">\n",
       "  <thead>\n",
       "    <tr style=\"text-align: right;\">\n",
       "      <th></th>\n",
       "      <th>latitude</th>\n",
       "      <th>TMIN</th>\n",
       "      <th>TMAX</th>\n",
       "    </tr>\n",
       "  </thead>\n",
       "  <tbody>\n",
       "    <tr>\n",
       "      <th>0</th>\n",
       "      <td>13.4836</td>\n",
       "      <td>71.06</td>\n",
       "      <td>87.08</td>\n",
       "    </tr>\n",
       "    <tr>\n",
       "      <th>1</th>\n",
       "      <td>18.2550</td>\n",
       "      <td>77.00</td>\n",
       "      <td>86.00</td>\n",
       "    </tr>\n",
       "    <tr>\n",
       "      <th>3</th>\n",
       "      <td>18.4325</td>\n",
       "      <td>69.08</td>\n",
       "      <td>82.04</td>\n",
       "    </tr>\n",
       "    <tr>\n",
       "      <th>4</th>\n",
       "      <td>18.4325</td>\n",
       "      <td>73.04</td>\n",
       "      <td>87.08</td>\n",
       "    </tr>\n",
       "    <tr>\n",
       "      <th>5</th>\n",
       "      <td>18.4325</td>\n",
       "      <td>73.04</td>\n",
       "      <td>84.02</td>\n",
       "    </tr>\n",
       "    <tr>\n",
       "      <th>...</th>\n",
       "      <td>...</td>\n",
       "      <td>...</td>\n",
       "      <td>...</td>\n",
       "    </tr>\n",
       "    <tr>\n",
       "      <th>416930</th>\n",
       "      <td>42.1128</td>\n",
       "      <td>29.12</td>\n",
       "      <td>62.96</td>\n",
       "    </tr>\n",
       "    <tr>\n",
       "      <th>416931</th>\n",
       "      <td>41.9922</td>\n",
       "      <td>29.12</td>\n",
       "      <td>64.04</td>\n",
       "    </tr>\n",
       "    <tr>\n",
       "      <th>416932</th>\n",
       "      <td>40.6331</td>\n",
       "      <td>41.00</td>\n",
       "      <td>69.08</td>\n",
       "    </tr>\n",
       "    <tr>\n",
       "      <th>416933</th>\n",
       "      <td>45.6689</td>\n",
       "      <td>16.16</td>\n",
       "      <td>26.24</td>\n",
       "    </tr>\n",
       "    <tr>\n",
       "      <th>416934</th>\n",
       "      <td>43.1561</td>\n",
       "      <td>46.04</td>\n",
       "      <td>80.96</td>\n",
       "    </tr>\n",
       "  </tbody>\n",
       "</table>\n",
       "<p>415485 rows × 3 columns</p>\n",
       "</div>"
      ],
      "text/plain": [
       "        latitude   TMIN   TMAX\n",
       "0        13.4836  71.06  87.08\n",
       "1        18.2550  77.00  86.00\n",
       "3        18.4325  69.08  82.04\n",
       "4        18.4325  73.04  87.08\n",
       "5        18.4325  73.04  84.02\n",
       "...          ...    ...    ...\n",
       "416930   42.1128  29.12  62.96\n",
       "416931   41.9922  29.12  64.04\n",
       "416932   40.6331  41.00  69.08\n",
       "416933   45.6689  16.16  26.24\n",
       "416934   43.1561  46.04  80.96\n",
       "\n",
       "[415485 rows x 3 columns]"
      ]
     },
     "execution_count": 72,
     "metadata": {},
     "output_type": "execute_result"
    }
   ],
   "source": [
    "## relationship between latitude and temperature\n",
    "df_plt5 = df_weather[['latitude', 'TMIN', 'TMAX']]\n",
    "df_plt5 = df_plt5.dropna()\n",
    "df_plt5"
   ]
  },
  {
   "cell_type": "code",
   "execution_count": 84,
   "metadata": {},
   "outputs": [
    {
     "name": "stdout",
     "output_type": "stream",
     "text": [
      "-1.1875697696666676\n"
     ]
    },
    {
     "data": {
      "image/png": "[encoded data removed]",
      "text/plain": [
       "<Figure size 432x288 with 1 Axes>"
      ]
     },
     "metadata": {
      "needs_background": "light"
     },
     "output_type": "display_data"
    }
   ],
   "source": [
    "m, b = np.polyfit(df_plt5.latitude, df_plt5.TMIN, 1)\n",
    "ax = plt.subplot()\n",
    "plt.scatter(df_plt5.latitude, df_plt5.TMIN, color='green')\n",
    "plt.plot(df_plt5.latitude, (m * df_plt5.latitude + b), '-', color=\"red\")\n",
    "plt.title('Relationship between latitude and minimum temperature in 2017')\n",
    "plt.xlabel(\"Latitude\")\n",
    "plt.ylabel(\"Minimum Temperature (F)\")\n",
    "print(m)\n"
   ]
  },
  {
   "cell_type": "code",
   "execution_count": 86,
   "metadata": {},
   "outputs": [
    {
     "name": "stdout",
     "output_type": "stream",
     "text": [
      "-1.2756094941185148\n"
     ]
    },
    {
     "data": {
      "image/png": "[encoded data removed]",
      "text/plain": [
       "<Figure size 432x288 with 1 Axes>"
      ]
     },
     "metadata": {
      "needs_background": "light"
     },
     "output_type": "display_data"
    }
   ],
   "source": [
    "m, b = np.polyfit(df_plt5.latitude, df_plt5.TMAX, 1)\n",
    "ax = plt.subplot()\n",
    "plt.scatter(df_plt5.latitude, df_plt5.TMAX, color='green')\n",
    "plt.plot(df_plt5.latitude, (m * df_plt5.latitude + b), '-', color=\"red\")\n",
    "plt.title('Relationship between latitude and maximum temperature in 2017')\n",
    "plt.xlabel(\"Latitude\")\n",
    "plt.ylabel(\"Maximum Temperature (F)\")\n",
    "print(m)\n"
   ]
  },
  {
   "cell_type": "code",
   "execution_count": 87,
   "metadata": {},
   "outputs": [],
   "source": [
    "df_plt8 = df_weather[['latitude', 'TAVG']]\n",
    "df_plt8 = df_plt8.dropna()"
   ]
  },
  {
   "cell_type": "code",
   "execution_count": 89,
   "metadata": {},
   "outputs": [
    {
     "name": "stdout",
     "output_type": "stream",
     "text": [
      "-0.9452038543934691\n"
     ]
    },
    {
     "data": {
      "image/png": "[encoded data removed]",
      "text/plain": [
       "<Figure size 432x288 with 1 Axes>"
      ]
     },
     "metadata": {
      "needs_background": "light"
     },
     "output_type": "display_data"
    }
   ],
   "source": [
    "m, b = np.polyfit(df_plt8.latitude, df_plt8.TAVG, 1)\n",
    "ax = plt.subplot()\n",
    "plt.scatter(df_plt8.latitude, df_plt8.TAVG, color='green')\n",
    "plt.plot(df_plt8.latitude, (m * df_plt8.latitude + b), '-', color=\"red\")\n",
    "plt.title('Relationship between latitude and average temperature in 2017')\n",
    "plt.xlabel(\"Latitude\")\n",
    "plt.ylabel(\"Average Temperature (F)\")\n",
    "print(m)\n"
   ]
  },
  {
   "cell_type": "code",
   "execution_count": 76,
   "metadata": {},
   "outputs": [],
   "source": [
    "## relationship between latitude and snow and precipitation\n",
    "df_plt6 = df_weather[['latitude', 'PRCP']]\n",
    "df_plt6 = df_plt6.dropna()"
   ]
  },
  {
   "cell_type": "code",
   "execution_count": 113,
   "metadata": {},
   "outputs": [
    {
     "name": "stdout",
     "output_type": "stream",
     "text": [
      "-0.0009119103761828965\n"
     ]
    },
    {
     "data": {
      "image/png": "[encoded data removed]",
      "text/plain": [
       "<Figure size 432x288 with 1 Axes>"
      ]
     },
     "metadata": {
      "needs_background": "light"
     },
     "output_type": "display_data"
    }
   ],
   "source": [
    "m, b = np.polyfit(df_plt6.latitude, df_plt6.PRCP, 1)\n",
    "ax = plt.subplot()\n",
    "plt.scatter(df_plt6.latitude, df_plt6.PRCP, color='green')\n",
    "plt.plot(df_plt6.latitude, (m * df_plt6.latitude + b), '-', color=\"red\")\n",
    "plt.title('Relationship between latitude and precipitation in 2017')\n",
    "plt.xlabel(\"Latitude\")\n",
    "plt.ylabel(\"Precipitation (inch)\")\n",
    "print(m)\n"
   ]
  },
  {
   "cell_type": "code",
   "execution_count": 78,
   "metadata": {},
   "outputs": [],
   "source": [
    "df_plt7 = df_weather[['latitude', 'SNOW']]\n",
    "df_plt7 = df_plt7.dropna()"
   ]
  },
  {
   "cell_type": "code",
   "execution_count": 112,
   "metadata": {},
   "outputs": [
    {
     "name": "stdout",
     "output_type": "stream",
     "text": [
      "0.006509251312140265\n"
     ]
    },
    {
     "data": {
      "image/png": "[encoded data removed]",
      "text/plain": [
       "<Figure size 432x288 with 1 Axes>"
      ]
     },
     "metadata": {
      "needs_background": "light"
     },
     "output_type": "display_data"
    }
   ],
   "source": [
    "m, b = np.polyfit(df_plt7.latitude, df_plt7.SNOW, 1)\n",
    "ax = plt.subplot()\n",
    "plt.scatter(df_plt7.latitude, df_plt7.SNOW, color='green')\n",
    "plt.plot(df_plt7.latitude, (m * df_plt7.latitude + b), '-', color=\"red\")\n",
    "plt.title('Relationship between latitude and snow in 2017')\n",
    "plt.xlabel(\"Latitude\")\n",
    "plt.ylabel(\"Snow (inch)\")\n",
    "print(m)\n"
   ]
  },
  {
   "cell_type": "code",
   "execution_count": 95,
   "metadata": {},
   "outputs": [
    {
     "data": {
      "text/html": [
       "<div>\n",
       "<style scoped>\n",
       "    .dataframe tbody tr th:only-of-type {\n",
       "        vertical-align: middle;\n",
       "    }\n",
       "\n",
       "    .dataframe tbody tr th {\n",
       "        vertical-align: top;\n",
       "    }\n",
       "\n",
       "    .dataframe thead th {\n",
       "        text-align: right;\n",
       "    }\n",
       "</style>\n",
       "<table border=\"1\" class=\"dataframe\">\n",
       "  <thead>\n",
       "    <tr style=\"text-align: right;\">\n",
       "      <th></th>\n",
       "      <th>longitude</th>\n",
       "      <th>TMAX</th>\n",
       "      <th>TMIN</th>\n",
       "    </tr>\n",
       "  </thead>\n",
       "  <tbody>\n",
       "    <tr>\n",
       "      <th>0</th>\n",
       "      <td>-215.2039</td>\n",
       "      <td>87.08</td>\n",
       "      <td>71.06</td>\n",
       "    </tr>\n",
       "    <tr>\n",
       "      <th>1</th>\n",
       "      <td>-65.6408</td>\n",
       "      <td>86.00</td>\n",
       "      <td>77.00</td>\n",
       "    </tr>\n",
       "    <tr>\n",
       "      <th>3</th>\n",
       "      <td>-66.0108</td>\n",
       "      <td>82.04</td>\n",
       "      <td>69.08</td>\n",
       "    </tr>\n",
       "    <tr>\n",
       "      <th>4</th>\n",
       "      <td>-66.0108</td>\n",
       "      <td>87.08</td>\n",
       "      <td>73.04</td>\n",
       "    </tr>\n",
       "    <tr>\n",
       "      <th>5</th>\n",
       "      <td>-66.0108</td>\n",
       "      <td>84.02</td>\n",
       "      <td>73.04</td>\n",
       "    </tr>\n",
       "    <tr>\n",
       "      <th>...</th>\n",
       "      <td>...</td>\n",
       "      <td>...</td>\n",
       "      <td>...</td>\n",
       "    </tr>\n",
       "    <tr>\n",
       "      <th>416930</th>\n",
       "      <td>-92.9175</td>\n",
       "      <td>62.96</td>\n",
       "      <td>29.12</td>\n",
       "    </tr>\n",
       "    <tr>\n",
       "      <th>416931</th>\n",
       "      <td>-93.6217</td>\n",
       "      <td>64.04</td>\n",
       "      <td>29.12</td>\n",
       "    </tr>\n",
       "    <tr>\n",
       "      <th>416932</th>\n",
       "      <td>-93.9019</td>\n",
       "      <td>69.08</td>\n",
       "      <td>41.00</td>\n",
       "    </tr>\n",
       "    <tr>\n",
       "      <th>416933</th>\n",
       "      <td>-96.9914</td>\n",
       "      <td>26.24</td>\n",
       "      <td>16.16</td>\n",
       "    </tr>\n",
       "    <tr>\n",
       "      <th>416934</th>\n",
       "      <td>-90.6775</td>\n",
       "      <td>80.96</td>\n",
       "      <td>46.04</td>\n",
       "    </tr>\n",
       "  </tbody>\n",
       "</table>\n",
       "<p>415485 rows × 3 columns</p>\n",
       "</div>"
      ],
      "text/plain": [
       "        longitude   TMAX   TMIN\n",
       "0       -215.2039  87.08  71.06\n",
       "1        -65.6408  86.00  77.00\n",
       "3        -66.0108  82.04  69.08\n",
       "4        -66.0108  87.08  73.04\n",
       "5        -66.0108  84.02  73.04\n",
       "...           ...    ...    ...\n",
       "416930   -92.9175  62.96  29.12\n",
       "416931   -93.6217  64.04  29.12\n",
       "416932   -93.9019  69.08  41.00\n",
       "416933   -96.9914  26.24  16.16\n",
       "416934   -90.6775  80.96  46.04\n",
       "\n",
       "[415485 rows x 3 columns]"
      ]
     },
     "execution_count": 95,
     "metadata": {},
     "output_type": "execute_result"
    }
   ],
   "source": [
    "## relationship between longitude and temperature\n",
    "df_plt9 = df_weather[['longitude', 'TMAX', 'TMIN']]\n",
    "df_plt9 = df_plt9.dropna()\n",
    "df_plt9.loc[df_plt9.longitude > 0, 'longitude'] = df_plt9[df_plt9.longitude > 0].longitude - 360\n",
    "df_plt9"
   ]
  },
  {
   "cell_type": "code",
   "execution_count": 110,
   "metadata": {},
   "outputs": [
    {
     "name": "stdout",
     "output_type": "stream",
     "text": [
      "0.25968951195207396\n"
     ]
    },
    {
     "data": {
      "image/png": "[encoded data removed]",
      "text/plain": [
       "<Figure size 432x288 with 1 Axes>"
      ]
     },
     "metadata": {
      "needs_background": "light"
     },
     "output_type": "display_data"
    }
   ],
   "source": [
    "m, b = np.polyfit(df_plt9.longitude, df_plt9.TMIN, 1)\n",
    "ax = plt.subplot()\n",
    "plt.scatter(df_plt9.longitude, df_plt9.TMIN, color='green')\n",
    "plt.plot(df_plt9.longitude, (m * df_plt9.longitude + b), '-', color=\"red\")\n",
    "plt.title('Relationship between longitude and minimum temperature in 2017')\n",
    "plt.xlabel(\"Longitude\")\n",
    "plt.ylabel(\"Minimum temperature (F)\")\n",
    "print(m)\n"
   ]
  },
  {
   "cell_type": "code",
   "execution_count": 111,
   "metadata": {},
   "outputs": [
    {
     "name": "stdout",
     "output_type": "stream",
     "text": [
      "0.26236223518352386\n"
     ]
    },
    {
     "data": {
      "image/png": "[encoded data removed]",
      "text/plain": [
       "<Figure size 432x288 with 1 Axes>"
      ]
     },
     "metadata": {
      "needs_background": "light"
     },
     "output_type": "display_data"
    }
   ],
   "source": [
    "m, b = np.polyfit(df_plt9.longitude, df_plt9.TMAX, 1)\n",
    "ax = plt.subplot()\n",
    "plt.scatter(df_plt9.longitude, df_plt9.TMAX, color='green')\n",
    "plt.plot(df_plt9.longitude, (m * df_plt9.longitude + b), '-', color=\"red\")\n",
    "plt.title('Relationship between longitude and maximum temperature in 2017')\n",
    "plt.xlabel(\"Longitude\")\n",
    "plt.ylabel(\"Maximum temperature (F)\")\n",
    "print(m)\n"
   ]
  },
  {
   "cell_type": "code",
   "execution_count": 101,
   "metadata": {},
   "outputs": [
    {
     "data": {
      "text/html": [
       "<div>\n",
       "<style scoped>\n",
       "    .dataframe tbody tr th:only-of-type {\n",
       "        vertical-align: middle;\n",
       "    }\n",
       "\n",
       "    .dataframe tbody tr th {\n",
       "        vertical-align: top;\n",
       "    }\n",
       "\n",
       "    .dataframe thead th {\n",
       "        text-align: right;\n",
       "    }\n",
       "</style>\n",
       "<table border=\"1\" class=\"dataframe\">\n",
       "  <thead>\n",
       "    <tr style=\"text-align: right;\">\n",
       "      <th></th>\n",
       "      <th>longitude</th>\n",
       "      <th>TAVG</th>\n",
       "    </tr>\n",
       "  </thead>\n",
       "  <tbody>\n",
       "    <tr>\n",
       "      <th>0</th>\n",
       "      <td>-215.2039</td>\n",
       "      <td>80.06</td>\n",
       "    </tr>\n",
       "    <tr>\n",
       "      <th>7</th>\n",
       "      <td>-114.2636</td>\n",
       "      <td>13.64</td>\n",
       "    </tr>\n",
       "    <tr>\n",
       "      <th>8</th>\n",
       "      <td>-114.2636</td>\n",
       "      <td>44.24</td>\n",
       "    </tr>\n",
       "    <tr>\n",
       "      <th>9</th>\n",
       "      <td>-114.2636</td>\n",
       "      <td>59.72</td>\n",
       "    </tr>\n",
       "    <tr>\n",
       "      <th>10</th>\n",
       "      <td>-114.2636</td>\n",
       "      <td>71.60</td>\n",
       "    </tr>\n",
       "    <tr>\n",
       "      <th>...</th>\n",
       "      <td>...</td>\n",
       "      <td>...</td>\n",
       "    </tr>\n",
       "    <tr>\n",
       "      <th>416907</th>\n",
       "      <td>-90.7036</td>\n",
       "      <td>60.98</td>\n",
       "    </tr>\n",
       "    <tr>\n",
       "      <th>416908</th>\n",
       "      <td>-90.7036</td>\n",
       "      <td>66.92</td>\n",
       "    </tr>\n",
       "    <tr>\n",
       "      <th>416909</th>\n",
       "      <td>-92.4011</td>\n",
       "      <td>47.66</td>\n",
       "    </tr>\n",
       "    <tr>\n",
       "      <th>416910</th>\n",
       "      <td>-92.4011</td>\n",
       "      <td>59.54</td>\n",
       "    </tr>\n",
       "    <tr>\n",
       "      <th>416911</th>\n",
       "      <td>-92.4011</td>\n",
       "      <td>60.80</td>\n",
       "    </tr>\n",
       "  </tbody>\n",
       "</table>\n",
       "<p>259038 rows × 2 columns</p>\n",
       "</div>"
      ],
      "text/plain": [
       "        longitude   TAVG\n",
       "0       -215.2039  80.06\n",
       "7       -114.2636  13.64\n",
       "8       -114.2636  44.24\n",
       "9       -114.2636  59.72\n",
       "10      -114.2636  71.60\n",
       "...           ...    ...\n",
       "416907   -90.7036  60.98\n",
       "416908   -90.7036  66.92\n",
       "416909   -92.4011  47.66\n",
       "416910   -92.4011  59.54\n",
       "416911   -92.4011  60.80\n",
       "\n",
       "[259038 rows x 2 columns]"
      ]
     },
     "execution_count": 101,
     "metadata": {},
     "output_type": "execute_result"
    }
   ],
   "source": [
    "df_plt10 = df_weather[['longitude', 'TAVG']]\n",
    "df_plt10 = df_plt10.dropna()\n",
    "df_plt10.loc[df_plt10.longitude > 0, 'longitude'] = df_plt10[df_plt10.longitude > 0].longitude - 360\n",
    "df_plt10"
   ]
  },
  {
   "cell_type": "code",
   "execution_count": 108,
   "metadata": {},
   "outputs": [
    {
     "name": "stdout",
     "output_type": "stream",
     "text": [
      "0.2692081661928965\n"
     ]
    },
    {
     "data": {
      "image/png": "[encoded data removed]",
      "text/plain": [
       "<Figure size 432x288 with 1 Axes>"
      ]
     },
     "metadata": {
      "needs_background": "light"
     },
     "output_type": "display_data"
    }
   ],
   "source": [
    "m, b = np.polyfit(df_plt10.longitude, df_plt10.TAVG, 1)\n",
    "ax = plt.subplot()\n",
    "plt.scatter(df_plt10.longitude, df_plt10.TAVG, color='green')\n",
    "plt.plot(df_plt10.longitude, (m * df_plt10.longitude + b), '-', color=\"red\")\n",
    "plt.title('Relationship between longitude and average temperature in 2017')\n",
    "plt.xlabel(\"Longitude\")\n",
    "plt.ylabel(\"Average temperature (F)\")\n",
    "print(m)\n"
   ]
  },
  {
   "cell_type": "code",
   "execution_count": 105,
   "metadata": {},
   "outputs": [
    {
     "data": {
      "text/html": [
       "<div>\n",
       "<style scoped>\n",
       "    .dataframe tbody tr th:only-of-type {\n",
       "        vertical-align: middle;\n",
       "    }\n",
       "\n",
       "    .dataframe tbody tr th {\n",
       "        vertical-align: top;\n",
       "    }\n",
       "\n",
       "    .dataframe thead th {\n",
       "        text-align: right;\n",
       "    }\n",
       "</style>\n",
       "<table border=\"1\" class=\"dataframe\">\n",
       "  <thead>\n",
       "    <tr style=\"text-align: right;\">\n",
       "      <th></th>\n",
       "      <th>longitude</th>\n",
       "      <th>SNOW</th>\n",
       "    </tr>\n",
       "  </thead>\n",
       "  <tbody>\n",
       "    <tr>\n",
       "      <th>0</th>\n",
       "      <td>-215.2039</td>\n",
       "      <td>0.000000</td>\n",
       "    </tr>\n",
       "    <tr>\n",
       "      <th>3</th>\n",
       "      <td>-66.0108</td>\n",
       "      <td>0.000000</td>\n",
       "    </tr>\n",
       "    <tr>\n",
       "      <th>4</th>\n",
       "      <td>-66.0108</td>\n",
       "      <td>0.000000</td>\n",
       "    </tr>\n",
       "    <tr>\n",
       "      <th>5</th>\n",
       "      <td>-66.0108</td>\n",
       "      <td>0.000000</td>\n",
       "    </tr>\n",
       "    <tr>\n",
       "      <th>6</th>\n",
       "      <td>-66.0108</td>\n",
       "      <td>0.000000</td>\n",
       "    </tr>\n",
       "    <tr>\n",
       "      <th>...</th>\n",
       "      <td>...</td>\n",
       "      <td>...</td>\n",
       "    </tr>\n",
       "    <tr>\n",
       "      <th>416931</th>\n",
       "      <td>-93.6217</td>\n",
       "      <td>0.000000</td>\n",
       "    </tr>\n",
       "    <tr>\n",
       "      <th>416933</th>\n",
       "      <td>-96.9914</td>\n",
       "      <td>4.606302</td>\n",
       "    </tr>\n",
       "    <tr>\n",
       "      <th>416934</th>\n",
       "      <td>-90.6775</td>\n",
       "      <td>0.000000</td>\n",
       "    </tr>\n",
       "    <tr>\n",
       "      <th>416935</th>\n",
       "      <td>-64.8056</td>\n",
       "      <td>0.000000</td>\n",
       "    </tr>\n",
       "    <tr>\n",
       "      <th>416936</th>\n",
       "      <td>-64.8056</td>\n",
       "      <td>0.000000</td>\n",
       "    </tr>\n",
       "  </tbody>\n",
       "</table>\n",
       "<p>135109 rows × 2 columns</p>\n",
       "</div>"
      ],
      "text/plain": [
       "        longitude      SNOW\n",
       "0       -215.2039  0.000000\n",
       "3        -66.0108  0.000000\n",
       "4        -66.0108  0.000000\n",
       "5        -66.0108  0.000000\n",
       "6        -66.0108  0.000000\n",
       "...           ...       ...\n",
       "416931   -93.6217  0.000000\n",
       "416933   -96.9914  4.606302\n",
       "416934   -90.6775  0.000000\n",
       "416935   -64.8056  0.000000\n",
       "416936   -64.8056  0.000000\n",
       "\n",
       "[135109 rows x 2 columns]"
      ]
     },
     "execution_count": 105,
     "metadata": {},
     "output_type": "execute_result"
    }
   ],
   "source": [
    "## relationship between longitude and snow and precipitation\n",
    "df_plt11 = df_weather[['longitude', 'SNOW']]\n",
    "df_plt11 = df_plt11.dropna()\n",
    "df_plt11.loc[df_plt11.longitude > 0, 'longitude'] = df_plt11[df_plt11.longitude > 0].longitude - 360\n",
    "df_plt11"
   ]
  },
  {
   "cell_type": "code",
   "execution_count": 107,
   "metadata": {},
   "outputs": [
    {
     "name": "stdout",
     "output_type": "stream",
     "text": [
      "0.0006220002796156036\n"
     ]
    },
    {
     "data": {
      "image/png": "[encoded data removed]",
      "text/plain": [
       "<Figure size 432x288 with 1 Axes>"
      ]
     },
     "metadata": {
      "needs_background": "light"
     },
     "output_type": "display_data"
    }
   ],
   "source": [
    "m, b = np.polyfit(df_plt11.longitude, df_plt11.SNOW, 1)\n",
    "ax = plt.subplot()\n",
    "plt.scatter(df_plt11.longitude, df_plt11.SNOW, color='green')\n",
    "plt.plot(df_plt11.longitude, (m * df_plt11.longitude + b), '-', color=\"red\")\n",
    "plt.title('Relationship between longitude and snow in 2017')\n",
    "plt.xlabel(\"Longitude\")\n",
    "plt.ylabel(\"Snow (inch)\")\n",
    "print(m)\n"
   ]
  },
  {
   "cell_type": "code",
   "execution_count": 104,
   "metadata": {},
   "outputs": [
    {
     "data": {
      "text/html": [
       "<div>\n",
       "<style scoped>\n",
       "    .dataframe tbody tr th:only-of-type {\n",
       "        vertical-align: middle;\n",
       "    }\n",
       "\n",
       "    .dataframe tbody tr th {\n",
       "        vertical-align: top;\n",
       "    }\n",
       "\n",
       "    .dataframe thead th {\n",
       "        text-align: right;\n",
       "    }\n",
       "</style>\n",
       "<table border=\"1\" class=\"dataframe\">\n",
       "  <thead>\n",
       "    <tr style=\"text-align: right;\">\n",
       "      <th></th>\n",
       "      <th>longitude</th>\n",
       "      <th>PRCP</th>\n",
       "    </tr>\n",
       "  </thead>\n",
       "  <tbody>\n",
       "    <tr>\n",
       "      <th>0</th>\n",
       "      <td>-215.2039</td>\n",
       "      <td>0.000000</td>\n",
       "    </tr>\n",
       "    <tr>\n",
       "      <th>1</th>\n",
       "      <td>-65.6408</td>\n",
       "      <td>0.000000</td>\n",
       "    </tr>\n",
       "    <tr>\n",
       "      <th>2</th>\n",
       "      <td>-65.6408</td>\n",
       "      <td>0.000000</td>\n",
       "    </tr>\n",
       "    <tr>\n",
       "      <th>3</th>\n",
       "      <td>-66.0108</td>\n",
       "      <td>0.000000</td>\n",
       "    </tr>\n",
       "    <tr>\n",
       "      <th>4</th>\n",
       "      <td>-66.0108</td>\n",
       "      <td>0.000000</td>\n",
       "    </tr>\n",
       "    <tr>\n",
       "      <th>...</th>\n",
       "      <td>...</td>\n",
       "      <td>...</td>\n",
       "    </tr>\n",
       "    <tr>\n",
       "      <th>416930</th>\n",
       "      <td>-92.9175</td>\n",
       "      <td>0.000000</td>\n",
       "    </tr>\n",
       "    <tr>\n",
       "      <th>416931</th>\n",
       "      <td>-93.6217</td>\n",
       "      <td>0.000000</td>\n",
       "    </tr>\n",
       "    <tr>\n",
       "      <th>416932</th>\n",
       "      <td>-93.9019</td>\n",
       "      <td>0.000000</td>\n",
       "    </tr>\n",
       "    <tr>\n",
       "      <th>416933</th>\n",
       "      <td>-96.9914</td>\n",
       "      <td>0.311024</td>\n",
       "    </tr>\n",
       "    <tr>\n",
       "      <th>416934</th>\n",
       "      <td>-90.6775</td>\n",
       "      <td>0.000000</td>\n",
       "    </tr>\n",
       "  </tbody>\n",
       "</table>\n",
       "<p>414965 rows × 2 columns</p>\n",
       "</div>"
      ],
      "text/plain": [
       "        longitude      PRCP\n",
       "0       -215.2039  0.000000\n",
       "1        -65.6408  0.000000\n",
       "2        -65.6408  0.000000\n",
       "3        -66.0108  0.000000\n",
       "4        -66.0108  0.000000\n",
       "...           ...       ...\n",
       "416930   -92.9175  0.000000\n",
       "416931   -93.6217  0.000000\n",
       "416932   -93.9019  0.000000\n",
       "416933   -96.9914  0.311024\n",
       "416934   -90.6775  0.000000\n",
       "\n",
       "[414965 rows x 2 columns]"
      ]
     },
     "execution_count": 104,
     "metadata": {},
     "output_type": "execute_result"
    }
   ],
   "source": [
    "## relationship between longitude and snow and precipitation\n",
    "df_plt12 = df_weather[['longitude', 'PRCP']]\n",
    "df_plt12 = df_plt12.dropna()\n",
    "df_plt12.loc[df_plt12.longitude > 0, 'longitude'] = df_plt12[df_plt12.longitude > 0].longitude - 360\n",
    "df_plt12"
   ]
  },
  {
   "cell_type": "code",
   "execution_count": 114,
   "metadata": {},
   "outputs": [
    {
     "name": "stdout",
     "output_type": "stream",
     "text": [
      "0.0003960617180734766\n"
     ]
    },
    {
     "data": {
      "image/png": "[encoded data removed]",
      "text/plain": [
       "<Figure size 432x288 with 1 Axes>"
      ]
     },
     "metadata": {
      "needs_background": "light"
     },
     "output_type": "display_data"
    }
   ],
   "source": [
    "m, b = np.polyfit(df_plt12.longitude, df_plt12.PRCP, 1)\n",
    "ax = plt.subplot()\n",
    "plt.scatter(df_plt12.longitude, df_plt12.PRCP, color='green')\n",
    "plt.plot(df_plt12.longitude, (m * df_plt12.longitude + b), '-', color=\"red\")\n",
    "plt.title('Relationship between longitude and snow in 2017')\n",
    "plt.xlabel(\"Longitude\")\n",
    "plt.ylabel(\"Precipitation (inch)\")\n",
    "print(m)\n"
   ]
  },
  {
   "cell_type": "code",
   "execution_count": null,
   "metadata": {},
   "outputs": [],
   "source": []
  }
 ],
 "metadata": {
  "kernelspec": {
   "display_name": "Python 3",
   "language": "python",
   "name": "python3"
  },
  "language_info": {
   "codemirror_mode": {
    "name": "ipython",
    "version": 3
   },
   "file_extension": ".py",
   "mimetype": "text/x-python",
   "name": "python",
   "nbconvert_exporter": "python",
   "pygments_lexer": "ipython3",
   "version": "3.8.5"
  }
 },
 "nbformat": 4,
 "nbformat_minor": 4
}
